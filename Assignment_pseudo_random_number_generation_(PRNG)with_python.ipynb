{
  "nbformat": 4,
  "nbformat_minor": 0,
  "metadata": {
    "colab": {
      "provenance": []
    },
    "kernelspec": {
      "name": "python3",
      "display_name": "Python 3"
    },
    "language_info": {
      "name": "python"
    }
  },
  "cells": [
    {
      "cell_type": "code",
      "source": [
        "import random\n",
        "\n",
        "# Set the seed for reproducibility\n",
        "random.seed(53)\n",
        "\n",
        "# Generate and print five random numbers, storing the state after each\n",
        "print(\"Generating 5 random numbers:\")\n",
        "for _ in range(5):\n",
        "    random_number = random.randrange(0, 19)\n",
        "    print(random_number)\n",
        "\n",
        "# Get the current state of the random number generator\n",
        "state = random.getstate()\n",
        "\n",
        "# Generate and print another five random numbers\n",
        "print(\"\\nGenerating 5 more random numbers:\")\n",
        "for _ in range(5):\n",
        "    random_number = random.randrange(0, 19)\n",
        "    print(random_number)\n",
        "\n",
        "# Restore the state of the random number generator\n",
        "random.setstate(state)\n",
        "\n",
        "# Generate and print the random numbers again with the restored state\n",
        "print(\"\\nRestoring state and generating the same 5 random numbers:\")\n",
        "for _ in range(5):\n",
        "    random_number = random.randrange(0, 19)\n",
        "    print(random_number)"
      ],
      "metadata": {
        "colab": {
          "base_uri": "https://localhost:8080/"
        },
        "id": "RK_jvorKf21e",
        "outputId": "12e8a7c9-efff-48a0-97cb-e4ad67c6a968"
      },
      "execution_count": 13,
      "outputs": [
        {
          "output_type": "stream",
          "name": "stdout",
          "text": [
            "Generating 5 random numbers:\n",
            "6\n",
            "14\n",
            "16\n",
            "15\n",
            "16\n",
            "\n",
            "Generating 5 more random numbers:\n",
            "11\n",
            "14\n",
            "0\n",
            "1\n",
            "5\n",
            "\n",
            "Restoring state and generating the same 5 random numbers:\n",
            "11\n",
            "14\n",
            "0\n",
            "1\n",
            "5\n"
          ]
        }
      ]
    },
    {
      "cell_type": "markdown",
      "source": [
        "Explanation:\n",
        "First Loop: Generates and prints 5 random numbers.\n",
        "State Storage: The current state of the random generator is saved after generating the first batch of random numbers.\n",
        "Second Loop: Generates and prints another 5 random numbers, which will be different from the first set.\n",
        "State Restoration: The saved state is restored, allowing us to generate the same sequence of random numbers as before.\n",
        "Third Loop: Generates and prints the same 5 random numbers once more.\n",
        "This code illustrates how the state of the random number generator can affect the output and how restoring the state allows you to repeat the same sequence of \"random\" numbers."
      ],
      "metadata": {
        "id": "Jisw2CHVgfj5"
      }
    }
  ]
}