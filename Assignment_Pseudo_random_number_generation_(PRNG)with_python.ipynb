{
  "nbformat": 4,
  "nbformat_minor": 0,
  "metadata": {
    "colab": {
      "provenance": []
    },
    "kernelspec": {
      "name": "python3",
      "display_name": "Python 3"
    },
    "language_info": {
      "name": "python"
    }
  },
  "cells": [
    {
      "cell_type": "code",
      "execution_count": 2,
      "metadata": {
        "colab": {
          "base_uri": "https://localhost:8080/"
        },
        "id": "vV-kSbj3uDsd",
        "outputId": "7bb79493-2f52-4fa8-fe74-2f94475d5330"
      },
      "outputs": [
        {
          "output_type": "stream",
          "name": "stdout",
          "text": [
            "Generating 5 random numbers:\n",
            "6\n",
            "14\n",
            "16\n",
            "15\n",
            "16\n",
            "\n",
            "Generating 5 more random numbers:\n",
            "11\n",
            "14\n",
            "0\n",
            "1\n",
            "5\n",
            "\n",
            "Restoring state and generating the same 5 random numbers:\n",
            "11\n",
            "14\n",
            "0\n",
            "1\n",
            "5\n"
          ]
        }
      ],
      "source": [
        "import random\n",
        "\n",
        "# Set the seed for reproducibility\n",
        "random.seed(53)\n",
        "\n",
        "# Generate and print five random numbers, storing the state after each\n",
        "print(\"Generating 5 random numbers:\")\n",
        "for _ in range(5):\n",
        "    random_number = random.randrange(0, 19)\n",
        "    print(random_number)\n",
        "\n",
        "# Get the current state of the random number generator\n",
        "state = random.getstate()\n",
        "\n",
        "# Generate and print another five random numbers\n",
        "print(\"\\nGenerating 5 more random numbers:\")\n",
        "for _ in range(5):\n",
        "    random_number = random.randrange(0, 19)\n",
        "    print(random_number)\n",
        "\n",
        "# Restore the state of the random number generator\n",
        "random.setstate(state)\n",
        "\n",
        "# Generate and print the random numbers again with the restored state\n",
        "print(\"\\nRestoring state and generating the same 5 random numbers:\")\n",
        "for _ in range(5):\n",
        "    random_number = random.randrange(0, 19)\n",
        "    print(random_number)"
      ]
    },
    {
      "cell_type": "markdown",
      "source": [
        "This code demonstrates the use of Python's random module to generate repeatable sequences of random numbers. First, it sets a seed (random.seed(53)) for reproducibility, ensuring that the sequence of generated numbers remains the same each time the code runs. It then generates five random numbers between 0 and 18, storing the state of the random generator after this sequence using random.getstate(). Following this, another five numbers are generated, which differ from the first set. By restoring the saved state with random.setstate(state), the code is able to regenerate the initial sequence, showcasing how restoring a saved state allows for the reproduction of the same random numbers.\n",
        "\n"
      ],
      "metadata": {
        "id": "Y2cqSOXxvWrS"
      }
    }
  ]
}